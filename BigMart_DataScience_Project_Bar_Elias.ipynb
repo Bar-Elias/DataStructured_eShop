{
  "cells": [
    {
      "cell_type": "markdown",
      "metadata": {
        "id": "view-in-github",
        "colab_type": "text"
      },
      "source": [
        "<a href=\"https://colab.research.google.com/github/Bar-Elias/DataStructured_eShop/blob/master/BigMart_DataScience_Project_Bar_Elias.ipynb\" target=\"_parent\"><img src=\"https://colab.research.google.com/assets/colab-badge.svg\" alt=\"Open In Colab\"/></a>"
      ]
    },
    {
      "cell_type": "markdown",
      "metadata": {
        "id": "Y0qQeP4DreSq"
      },
      "source": [
        "<div dir=rtl>\n",
        "\n",
        "# יבוא ספריות וקליטת סט הנתונים"
      ]
    },
    {
      "cell_type": "code",
      "execution_count": null,
      "metadata": {
        "id": "jqp0FaQcPS0T"
      },
      "outputs": [],
      "source": [
        "import pandas as pd\n",
        "import matplotlib.pyplot as plt\n",
        "import seaborn as sns\n",
        "from sklearn.preprocessing import LabelEncoder\n",
        "from sklearn.ensemble import RandomForestRegressor\n",
        "import numpy as np\n",
        "from sklearn.model_selection import train_test_split\n",
        "import random\n",
        "from xgboost import XGBRegressor\n",
        "from sklearn.model_selection import RandomizedSearchCV\n",
        "from sklearn.linear_model import LinearRegression, Lasso\n",
        "from sklearn import metrics\n",
        "\n",
        "import warnings\n",
        "warnings.filterwarnings('always')\n",
        "warnings.filterwarnings('ignore')"
      ]
    },
    {
      "cell_type": "code",
      "execution_count": null,
      "metadata": {
        "id": "E2jixtq3PgX4",
        "colab": {
          "resources": {
            "http://localhost:8080/nbextensions/google.colab/files.js": {
              "data": "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",
              "ok": true,
              "headers": [
                [
                  "content-type",
                  "application/javascript"
                ]
              ],
              "status": 200,
              "status_text": ""
            }
          },
          "base_uri": "https://localhost:8080/",
          "height": 73
        },
        "outputId": "93a6f479-5155-424b-f16e-82d14ca4480b"
      },
      "outputs": [
        {
          "output_type": "display_data",
          "data": {
            "text/plain": [
              "<IPython.core.display.HTML object>"
            ],
            "text/html": [
              "\n",
              "     <input type=\"file\" id=\"files-7efb8883-51c2-447b-afdf-94a7638b8473\" name=\"files[]\" multiple disabled\n",
              "        style=\"border:none\" />\n",
              "     <output id=\"result-7efb8883-51c2-447b-afdf-94a7638b8473\">\n",
              "      Upload widget is only available when the cell has been executed in the\n",
              "      current browser session. Please rerun this cell to enable.\n",
              "      </output>\n",
              "      <script src=\"/nbextensions/google.colab/files.js\"></script> "
            ]
          },
          "metadata": {}
        },
        {
          "output_type": "stream",
          "name": "stdout",
          "text": [
            "Saving data_bigmart.csv to data_bigmart.csv\n"
          ]
        }
      ],
      "source": [
        "from google.colab import files\n",
        "data = files.upload()\n",
        "data = pd.read_csv('data_bigmart.csv')"
      ]
    },
    {
      "cell_type": "markdown",
      "metadata": {
        "id": "SHQy7HmurqYX"
      },
      "source": [
        "<div dir=rtl>\n",
        "\n",
        "# אקספלורציה של הנתונים"
      ]
    },
    {
      "cell_type": "code",
      "execution_count": null,
      "metadata": {
        "colab": {
          "base_uri": "https://localhost:8080/"
        },
        "id": "da9d01f9",
        "outputId": "5c23159e-84a5-4ad4-ceb6-d3b93bc04e5e",
        "scrolled": true
      },
      "outputs": [
        {
          "output_type": "stream",
          "name": "stdout",
          "text": [
            "<class 'pandas.core.frame.DataFrame'>\n",
            "RangeIndex: 8523 entries, 0 to 8522\n",
            "Data columns (total 12 columns):\n",
            " #   Column                     Non-Null Count  Dtype  \n",
            "---  ------                     --------------  -----  \n",
            " 0   Item_Identifier            8523 non-null   object \n",
            " 1   Item_Weight                7060 non-null   float64\n",
            " 2   Item_Fat_Content           8523 non-null   object \n",
            " 3   Item_Visibility            8523 non-null   float64\n",
            " 4   Item_Type                  8523 non-null   object \n",
            " 5   Item_MRP                   8523 non-null   float64\n",
            " 6   Outlet_Identifier          8523 non-null   object \n",
            " 7   Outlet_Establishment_Year  8523 non-null   int64  \n",
            " 8   Outlet_Size                6113 non-null   object \n",
            " 9   Outlet_Location_Type       8523 non-null   object \n",
            " 10  Outlet_Type                8523 non-null   object \n",
            " 11  Item_Outlet_Sales          8523 non-null   float64\n",
            "dtypes: float64(4), int64(1), object(7)\n",
            "memory usage: 799.2+ KB\n",
            "None\n",
            "\n",
            "\n",
            " Describe:\n",
            "\n",
            "        Item_Weight  Item_Visibility     Item_MRP  Outlet_Establishment_Year  \\\n",
            "count  7060.000000      8523.000000  8523.000000                8523.000000   \n",
            "mean     12.857645         0.066132   140.992782                1997.831867   \n",
            "std       4.643456         0.051598    62.275067                   8.371760   \n",
            "min       4.555000         0.000000    31.290000                1985.000000   \n",
            "25%       8.773750         0.026989    93.826500                1987.000000   \n",
            "50%      12.600000         0.053931   143.012800                1999.000000   \n",
            "75%      16.850000         0.094585   185.643700                2004.000000   \n",
            "max      21.350000         0.328391   266.888400                2009.000000   \n",
            "\n",
            "       Item_Outlet_Sales  \n",
            "count        8523.000000  \n",
            "mean         2181.288914  \n",
            "std          1706.499616  \n",
            "min            33.290000  \n",
            "25%           834.247400  \n",
            "50%          1794.331000  \n",
            "75%          3101.296400  \n",
            "max         13086.964800  \n",
            "\n",
            "\n",
            " Sample: \n",
            "\n",
            "      Item_Identifier  Item_Weight Item_Fat_Content  Item_Visibility  \\\n",
            "1254           FDG47        12.80          Low Fat         0.069619   \n",
            "5269           FDB41        19.00          Regular         0.097710   \n",
            "3556           FDD38        16.75          Regular         0.013711   \n",
            "1844           DRF49         7.27          Low Fat         0.071188   \n",
            "7170           FDT47         5.26          Regular         0.024547   \n",
            "\n",
            "          Item_Type  Item_MRP Outlet_Identifier  Outlet_Establishment_Year  \\\n",
            "1254  Starchy Foods  260.3252            OUT046                       1997   \n",
            "5269   Frozen Foods   48.6718            OUT018                       2009   \n",
            "3556         Canned  100.2674            OUT010                       1998   \n",
            "1844    Soft Drinks  111.9518            OUT049                       1999   \n",
            "7170         Breads   95.7068            OUT049                       1999   \n",
            "\n",
            "     Outlet_Size Outlet_Location_Type        Outlet_Type  Item_Outlet_Sales  \n",
            "1254       Small               Tier 1  Supermarket Type1          8132.0812  \n",
            "5269      Medium               Tier 3  Supermarket Type2           614.5334  \n",
            "3556         NaN               Tier 3      Grocery Store           203.7348  \n",
            "1844      Medium               Tier 1  Supermarket Type1          1138.5180  \n",
            "7170      Medium               Tier 1  Supermarket Type1          1166.4816  \n"
          ]
        }
      ],
      "source": [
        "print(data.info())\n",
        "print(\"\\n\\n Describe:\\n\\n\",data.describe())\n",
        "print(\"\\n\\n Sample: \\n\\n\", data.sample(5))\n"
      ]
    },
    {
      "cell_type": "markdown",
      "metadata": {
        "id": "AbPJRz13pOaA"
      },
      "source": [
        "<div dir=rtl>\n",
        "בסיס האקפלורציה: <br>\n",
        "<br>\n",
        "info - לקבל מידע לגבי סוג הערכים, איזה ערכים אלפא-נומריים מסוג object אותם נצטרך לקודד בהמשך.\n",
        "<br>\n",
        "describe - סקירה כללית של המאפיינים,ממוצע, סכימה של כולם, סטיית תקן של כל אחד מהמאפיינים הקטגוריאלים והתפלגות כללית.\n",
        "<br>\n",
        "sample - דגימה רנדומלית של 5 ערכים כדי לראות פחות או יותר על מה אנחנו מדברים."
      ]
    },
    {
      "cell_type": "code",
      "execution_count": null,
      "metadata": {
        "colab": {
          "base_uri": "https://localhost:8080/"
        },
        "id": "ovkQg9FeQHBb",
        "outputId": "642f9fef-8232-479d-bc26-b404af0a2532"
      },
      "outputs": [
        {
          "output_type": "stream",
          "name": "stdout",
          "text": [
            "Total Nulls values in every column:\n",
            "Item_Identifier                 0\n",
            "Item_Weight                  1463\n",
            "Item_Fat_Content                0\n",
            "Item_Visibility                 0\n",
            "Item_Type                       0\n",
            "Item_MRP                        0\n",
            "Outlet_Identifier               0\n",
            "Outlet_Establishment_Year       0\n",
            "Outlet_Size                  2410\n",
            "Outlet_Location_Type            0\n",
            "Outlet_Type                     0\n",
            "Item_Outlet_Sales               0\n",
            "dtype: int64 \n",
            "\n",
            "\n",
            "\n",
            "\n",
            "'Item_Identifier' feature zeros precentage: 0.00 %\n",
            "'Item_Weight' feature zeros precentage: 0.00 %\n",
            "'Item_Fat_Content' feature zeros precentage: 0.00 %\n",
            "'Item_Visibility' feature zeros precentage: 6.17 %\n",
            "'Item_Type' feature zeros precentage: 0.00 %\n",
            "'Item_MRP' feature zeros precentage: 0.00 %\n",
            "'Outlet_Identifier' feature zeros precentage: 0.00 %\n",
            "'Outlet_Establishment_Year' feature zeros precentage: 0.00 %\n",
            "'Outlet_Size' feature zeros precentage: 0.00 %\n",
            "'Outlet_Location_Type' feature zeros precentage: 0.00 %\n",
            "'Outlet_Type' feature zeros precentage: 0.00 %\n"
          ]
        }
      ],
      "source": [
        "print(\"Total Nulls values in every column:\\n{0} \\n\\n\\n\\n\" .format(data.isna().sum()))\n",
        "\n",
        "for col in range(0,11):\n",
        "    zeros=0\n",
        "    for i in range(0,len(data)):\n",
        "        if data.iloc[i,col]==0:\n",
        "            zeros+=1\n",
        "    percents = (zeros/len(data))*100\n",
        "    print(\"'{0}' feature zeros precentage: {1:.2f} %\" .format(data.columns[col],percents))"
      ]
    },
    {
      "cell_type": "markdown",
      "metadata": {
        "id": "uPpT-K9Efr9j"
      },
      "source": [
        "<div dir=rtl>\n",
        "כאן נבדוק את כמות הערכים החסרים בכל אחת מהקטגוריות. אם מדובר בכמות ערכים גדולה (כמו שקיבלנו) נצטרך לטפל בערכים מבלי להסיר אותם.\n",
        "<br> <br>\n",
        "בנוסף לכך נבדוק את אחוז האפסים בכל קטגוריה. ניתן לראות שיש 6.17% אפסים בויזואליות של המוצר בחנות. מה שיכול להוות בעיה, כיוון שראינו בדגימה שגם מוצרים שלא נראים לעין יש רווח סופי."
      ]
    },
    {
      "cell_type": "code",
      "execution_count": null,
      "metadata": {
        "colab": {
          "base_uri": "https://localhost:8080/"
        },
        "id": "_FQKqi54bQjL",
        "outputId": "263b9b1f-11a4-4f27-b79a-f5d4e58bd10d"
      },
      "outputs": [
        {
          "output_type": "execute_result",
          "data": {
            "text/plain": [
              "7850    0.019918\n",
              "6025    0.142733\n",
              "7990    0.041971\n",
              "5653    0.025755\n",
              "3104    0.050809\n",
              "7225    0.098604\n",
              "6000    0.021273\n",
              "4428    0.026074\n",
              "2900    0.104488\n",
              "4991    0.018905\n",
              "Name: Item_Visibility, dtype: float64"
            ]
          },
          "metadata": {},
          "execution_count": 6
        }
      ],
      "source": [
        "data['Item_Visibility'].sample(10)"
      ]
    },
    {
      "cell_type": "markdown",
      "metadata": {
        "id": "LA2FTy_uWRhS"
      },
      "source": [
        "<div dir=rtl>\n",
        "ניתן לראות כי יש אפסים בעמודת הנראות של המוצר. <br> לדעתנו לא הגיוני שמוצר לא יהיה נראה לעין ובכל זאת ימכר לכן בהמשך נטפל בעמודה זו."
      ]
    },
    {
      "cell_type": "code",
      "execution_count": null,
      "metadata": {
        "colab": {
          "base_uri": "https://localhost:8080/"
        },
        "id": "sV11osrVjKyO",
        "outputId": "3e418608-581c-495f-d06c-7f3e1c3d71ac"
      },
      "outputs": [
        {
          "output_type": "stream",
          "name": "stdout",
          "text": [
            "Small value counter=2388, Medium value counter=2793, High value counter=932, Nulls=2410\n"
          ]
        }
      ],
      "source": [
        "C_s=0; C_m=0; C_h=0; C_N=0\n",
        "for i in range(0,len(data)):\n",
        "    if data.iloc[i,8]=='Small':\n",
        "      C_s+=1 \n",
        "    elif data.iloc[i,8]=='Medium':\n",
        "      C_m+=1\n",
        "    elif data.iloc[i,8]=='High':\n",
        "      C_h+=1\n",
        "    else:\n",
        "      C_N+=1\n",
        "print(\"Small value counter={0}, Medium value counter={1}, High value counter={2}, Nulls={3}\".format(C_s,C_m,C_h,C_N))\n"
      ]
    },
    {
      "cell_type": "markdown",
      "metadata": {
        "id": "OkZuyJnqp6qE"
      },
      "source": [
        "<div dir=rtl>\n",
        "כאן אנו עורכים בדיקה על עמודת הגודל החנות (outlet_size).<br>\n",
        "נרצה לבחון את כמות הערכים החסרים ביחס לערכים הלא חסרים כדי לדעת כיצד לטפל בערכים החסרים בעמודה זו בהמשך."
      ]
    },
    {
      "cell_type": "code",
      "execution_count": null,
      "metadata": {
        "colab": {
          "base_uri": "https://localhost:8080/"
        },
        "id": "X5uzj9YnY-r9",
        "outputId": "66e9507b-a1a0-40c0-fe24-04178edc1bcd"
      },
      "outputs": [
        {
          "output_type": "stream",
          "name": "stdout",
          "text": [
            "['Dairy' 'Soft Drinks' 'Meat' 'Fruits and Vegetables' 'Household'\n",
            " 'Baking Goods' 'Snack Foods' 'Frozen Foods' 'Breakfast'\n",
            " 'Health and Hygiene' 'Hard Drinks' 'Canned' 'Breads' 'Starchy Foods'\n",
            " 'Others' 'Seafood']\n",
            "['Low Fat' 'Regular' 'low fat' 'LF' 'reg']\n",
            "['OUT049' 'OUT018' 'OUT010' 'OUT013' 'OUT027' 'OUT045' 'OUT017' 'OUT046'\n",
            " 'OUT035' 'OUT019']\n",
            "['Tier 1' 'Tier 3' 'Tier 2']\n"
          ]
        }
      ],
      "source": [
        "print(data.Item_Type.unique())\n",
        "print(data.Item_Fat_Content.unique())\n",
        "print(data.Outlet_Identifier.unique())\n",
        "print(data.Outlet_Location_Type.unique())"
      ]
    },
    {
      "cell_type": "markdown",
      "metadata": {
        "id": "Ejcu8moBuJdO"
      },
      "source": [
        "<div dir=rtl>\n",
        "כאן רצינו לקבל מידע על כמות הערכים השונים מסוג אלפא נומריים וראינו שקיימת בעיה באחד מהמאפיינים. <br><br>\n",
        "ניתן לראות שחלק מהערכים בItem_Fat_Content כתובים לא נכון <br>\n",
        "צריכים להיות רק שני סוגים שונים של ערכים ודרך הפקודה Unique גילינו חמישה. <br>\n",
        "לכן בהמשך נתקן את הערכים באופן הבא: <br> <br>\n",
        "\n",
        "LF, low fat  ---> Low Fat<br>\n",
        "reg          ---> Regular"
      ]
    },
    {
      "cell_type": "markdown",
      "metadata": {
        "id": "gWfd2LnXug92"
      },
      "source": [
        "<div dir=rtl>\n",
        "\n",
        "# תיקון ערכים בעייתים ומילוי ערכים חסרים"
      ]
    },
    {
      "cell_type": "code",
      "execution_count": null,
      "metadata": {
        "id": "5ceO9dEfvjSB"
      },
      "outputs": [],
      "source": [
        "df=data.copy()\n",
        "\n",
        "df.Item_Weight.fillna(df.Item_Weight.mean(),inplace=True)\n"
      ]
    },
    {
      "cell_type": "markdown",
      "metadata": {
        "id": "Hpz8xxU-rYEs"
      },
      "source": [
        "<div dir=rtl>\n",
        "\n",
        "טיפול בערכים החסרים של עמודת משקל מוצר, באמצעות שיטת המומצע מכיוון שמשקל מוצר הינו ערך רציף והבחנו שלא קיימים מקרי קיצון חריגים מידי."
      ]
    },
    {
      "cell_type": "code",
      "execution_count": null,
      "metadata": {
        "id": "opLFCqxJrTsI"
      },
      "outputs": [],
      "source": [
        "\n",
        "df.Outlet_Size.fillna(df.Outlet_Size.mode()[0],inplace=True)"
      ]
    },
    {
      "cell_type": "markdown",
      "metadata": {
        "id": "yXA1rkofX2a8"
      },
      "source": [
        "<div dir=rtl>\n",
        "\n",
        "בעמודה זו אין ערכים מספריים. החלטנו למלא את הערכים החסרים בערך השכיח. <br>\n",
        "בחרנו בשיטה זו מכיוון שיטת מחיקת שורות הייתה מורידה לנו כרבע מסט הנתונים מה שהיה פוגע במהימנות המודלים.<br>\n",
        "בנוסף לכך, שיטה נוספת שבחנו הייתה מילוי ערכים באמצעות random choice, שיטה זו גם לא מתאימה מכיוון שקיימות בסה\"כ 10 חנויות ברשת וכל חנות בעלת גודל מסוים."
      ]
    },
    {
      "cell_type": "code",
      "execution_count": null,
      "metadata": {
        "colab": {
          "base_uri": "https://localhost:8080/"
        },
        "id": "PT8AsRoBZAJC",
        "outputId": "39b45367-6b4c-42c2-acb3-84dee9c421ca"
      },
      "outputs": [
        {
          "output_type": "stream",
          "name": "stdout",
          "text": [
            "['Dairy' 'Soft Drinks' 'Meat' 'Fruits and Vegetables' 'Household'\n",
            " 'Baking Goods' 'Snack Foods' 'Frozen Foods' 'Breakfast'\n",
            " 'Health and Hygiene' 'Hard Drinks' 'Canned' 'Breads' 'Starchy Foods'\n",
            " 'Others' 'Seafood']\n",
            "['Low Fat' 'Regular']\n",
            "['OUT049' 'OUT018' 'OUT010' 'OUT013' 'OUT027' 'OUT045' 'OUT017' 'OUT046'\n",
            " 'OUT035' 'OUT019']\n",
            "[1 3 2]\n"
          ]
        }
      ],
      "source": [
        "df.iloc[:,2]=df.iloc[:,2].replace(['LF','low fat'],'Low Fat')\n",
        "df.iloc[:,2]=df.iloc[:,2].replace('reg','Regular')\n",
        "df.iloc[:,9]=df.iloc[:,9].replace('Tier 1',1)\n",
        "df.iloc[:,9]=df.iloc[:,9].replace('Tier 2',2)\n",
        "df.iloc[:,9]=df.iloc[:,9].replace('Tier 3',3)\n",
        "print(df.Item_Type.unique())\n",
        "print(df.Item_Fat_Content.unique())\n",
        "print(df.Outlet_Identifier.unique())\n",
        "print(df.Outlet_Location_Type.unique())"
      ]
    },
    {
      "cell_type": "markdown",
      "metadata": {
        "id": "Po07jqfraWVv"
      },
      "source": [
        "<div dir=rtl>\n",
        "\n",
        "אחרי בדיקת המאפיינים גלינו ששינם ערכים זהים שמתויגים באופן שונה, לכן מיזגנו אותם לערכים הרלוונטים. <br>\n",
        "בעמודת מיקום המוצר במדף העדפנו לא לבצע קידוד על מאפיין זה כיוון שרצינו לשמור על ערכיו המקוריים. בשלב האקספלורציה גילנו שאפשר לעשות זאת כיוון שהוא לא מכיל כמות גדולה של ערכים שונים."
      ]
    },
    {
      "cell_type": "code",
      "execution_count": null,
      "metadata": {
        "id": "zh84WDm41BYY"
      },
      "outputs": [],
      "source": [
        "df.iloc[:,3]=df.iloc[:,3].replace(0,np.nan)\n",
        "df.iloc[:,3]=df.iloc[:,3].replace(np.nan,data.iloc[:,3].mean())"
      ]
    },
    {
      "cell_type": "markdown",
      "metadata": {
        "id": "C1o61OY13hN_"
      },
      "source": [
        "<div dir=rtl>\n",
        "\n",
        "החלטנו כי צריך לשנות את הערכים בלתי נראים לקהל (Visability = 0%) כיוון שאין בהם היגיון. <br>\n",
        "לא יכול להיות מצב בו מוצר נמכר והוא לא נראה ללקוחות (ההנחה היא שאין מכירות באינרנט) <br>\n",
        "לכן הפעולה אותה בצענו היא ראשית להחליף את הערכים בהם יש 0 בעמודה הספציפית לNAN, לאחר כמן החלפנו את ערכי הNAN לממוצע. <br>\n",
        "הסיבה שקודם לכן החלפנו לערך ריק ורק לאחר מכן לערך ממוצע היא שלא נעשה ממוצע גם על האפסים."
      ]
    },
    {
      "cell_type": "markdown",
      "metadata": {
        "id": "cSHnMe4osAbX"
      },
      "source": [
        "<div dir=rtl>\n",
        "\n",
        "# הצגה גרפית\n",
        "כאן ננסה להבין יותר לעומק כל אחד מהמאפיינים ביחס לכמות המכירות בחנויות השונות."
      ]
    },
    {
      "cell_type": "code",
      "execution_count": null,
      "metadata": {
        "colab": {
          "base_uri": "https://localhost:8080/",
          "height": 351
        },
        "id": "NrR3N0GBtdJl",
        "outputId": "292e69f1-5589-4cef-f3ca-d3ea11ed3ce2"
      },
      "outputs": [
        {
          "output_type": "execute_result",
          "data": {
            "text/plain": [
              "Text(0, 0.5, 'Item Outlet Sales')"
            ]
          },
          "metadata": {},
          "execution_count": 13
        },
        {
          "output_type": "display_data",
          "data": {
            "text/plain": [
              "<Figure size 720x360 with 1 Axes>"
            ],
            "image/png": "[encoded data removed]"
          },
          "metadata": {
            "needs_background": "light"
          }
        }
      ],
      "source": [
        "from matplotlib import colorbar\n",
        "#Inference- values having the most sales have visibillity less than 0.2\n",
        "plt.subplots(figsize=(10,5))\n",
        "plt.bar(data[\"Outlet_Identifier\"],data[\"Item_Outlet_Sales\"], width = 0.8)\n",
        "plt.xlabel(\"Outlet Identifier\")\n",
        "plt.ylabel(\"Item Outlet Sales\")\n"
      ]
    },
    {
      "cell_type": "markdown",
      "metadata": {
        "id": "NgQMFT3LtslW"
      },
      "source": [
        "<div dir=rtl>\n",
        "היקף מכירות של כל חנות. <br>\n",
        "מן הגרף הניתן לראות שבחנות OUT27 יש את היקף המכירות הגדול ביותר"
      ]
    },
    {
      "cell_type": "code",
      "execution_count": null,
      "metadata": {
        "colab": {
          "base_uri": "https://localhost:8080/",
          "height": 447
        },
        "id": "Yi5rMMH5w2vX",
        "outputId": "8eb70a21-1a99-440f-f1bb-30a2b88212c7"
      },
      "outputs": [
        {
          "output_type": "execute_result",
          "data": {
            "text/plain": [
              "Text(0, 0.5, 'Item Outlet Sales')"
            ]
          },
          "metadata": {},
          "execution_count": 14
        },
        {
          "output_type": "display_data",
          "data": {
            "text/plain": [
              "<Figure size 2160x576 with 1 Axes>"
            ],
            "image/png": "[encoded data removed]"
          },
          "metadata": {
            "needs_background": "light"
          }
        }
      ],
      "source": [
        "fig, ax = plt.subplots(figsize=(30,8))\n",
        "plt.bar(data[\"Item_Type\"],data[\"Item_Outlet_Sales\"], width = 0.8)\n",
        "plt.xlabel(\"Item Type\")\n",
        "plt.ylabel(\"Item Outlet Sales\")"
      ]
    },
    {
      "cell_type": "markdown",
      "metadata": {
        "id": "bt0yUlMmxfOq"
      },
      "source": [
        "<div dir=rtl>\n",
        "\n",
        "השוואה בין סוג המוצרים להיקף המכירות.\n",
        " <br> ניתן לראות מן הגרף שמוצרי בית הם הרווחיים ביותר ברשת.\n",
        "\n"
      ]
    },
    {
      "cell_type": "code",
      "execution_count": null,
      "metadata": {
        "colab": {
          "base_uri": "https://localhost:8080/",
          "height": 954
        },
        "id": "9HwHIkX5Zfou",
        "outputId": "fa9be7c6-075d-43d0-b39c-d7bbdb26556d"
      },
      "outputs": [
        {
          "output_type": "display_data",
          "data": {
            "text/plain": [
              "<Figure size 720x648 with 3 Axes>"
            ],
            "image/png": "[encoded data removed]"
          },
          "metadata": {
            "needs_background": "light"
          }
        }
      ],
      "source": [
        "plt.figure(figsize = (10,9))\n",
        "\n",
        "plt.subplot(311)\n",
        "sns.boxplot(x='Outlet_Size', y='Item_Outlet_Sales', data=data, palette=\"spring\")\n",
        "\n",
        "plt.subplot(312)\n",
        "sns.barplot(x='Outlet_Location_Type',y='Item_Outlet_Sales',data=data,palette='magma')\n",
        "\n",
        "\n",
        "plt.subplot(313)\n",
        "sns.boxplot(x='Outlet_Type', y='Item_Outlet_Sales', data=data, palette=\"inferno\")\n",
        "\n",
        "plt.subplots_adjust(wspace = 0.2, hspace = 0.4,top = 1.5)\n",
        "\n",
        "plt.show()"
      ]
    },
    {
      "cell_type": "markdown",
      "metadata": {
        "id": "1xIxKZjbzBEt"
      },
      "source": [
        "<div dir=rtl>\n",
        "הגרפים האחרונים שהוצגו מתארים תכונות שמדברות על החנויות עצמן ועל אופי החנויות ביחס להיקף המכירות:<br><br>\n",
        "1. מהגרף הראשון ניתן לראות שגודל החנות לא משמעותי במיוחד.למרות זאת -חנויות קטנות ישיגו שולי רווח נמוכים יותר. <br><br>\n",
        "2. מהגרף השני ניתן לראות שהמיקום אכן משנה. במיקום Tier2 וTier3 יש היקף מכירות גדול יותר.<br><br>\n",
        "3. מהגרף האחרון אנו רואים שלסופרמרקט מסוג 3 יש היקף מכירות הגדול ביותר. בהתאם לגרף הראשון, שבו ראינו שלחנויות קטנות יותר יש היקף מכירות קטן יותר. אנו רואים זאת בכך שלחנויות מסוג מכולת יש היקף מכירות נמוך ביחס לאחרים."
      ]
    },
    {
      "cell_type": "code",
      "execution_count": null,
      "metadata": {
        "colab": {
          "base_uri": "https://localhost:8080/",
          "height": 354
        },
        "id": "JF7aUiWb3Yn4",
        "outputId": "d920e16e-3ed4-4727-dccd-8c126b798e28"
      },
      "outputs": [
        {
          "output_type": "execute_result",
          "data": {
            "text/plain": [
              "<matplotlib.legend.Legend at 0x7f3aa78b0e90>"
            ]
          },
          "metadata": {},
          "execution_count": 16
        },
        {
          "output_type": "display_data",
          "data": {
            "text/plain": [
              "<Figure size 720x360 with 1 Axes>"
            ],
            "image/png": "[encoded data removed]"
          },
          "metadata": {
            "needs_background": "light"
          }
        }
      ],
      "source": [
        "plt.figure(figsize=(10,5))\n",
        "sns.barplot('Outlet_Location_Type','Item_Outlet_Sales',hue='Outlet_Type',data=data,palette='magma')\n",
        "plt.legend()"
      ]
    },
    {
      "cell_type": "markdown",
      "metadata": {
        "id": "ZreznvwK3-su"
      },
      "source": [
        "<div dir=rtl>\n",
        "\n",
        "במיקום Tier-3 נמצאים כל סוגי החנויות ומופיע בו גם היקף המכירות הגבוה ביותר."
      ]
    },
    {
      "cell_type": "code",
      "execution_count": null,
      "metadata": {
        "colab": {
          "base_uri": "https://localhost:8080/",
          "height": 352
        },
        "id": "6yerMUgRaG-Z",
        "outputId": "687cb18d-74f9-47b5-ef15-6413264f5f8f"
      },
      "outputs": [
        {
          "output_type": "execute_result",
          "data": {
            "text/plain": [
              "<matplotlib.axes._subplots.AxesSubplot at 0x7f3a903a83d0>"
            ]
          },
          "metadata": {},
          "execution_count": 17
        },
        {
          "output_type": "display_data",
          "data": {
            "text/plain": [
              "<Figure size 576x360 with 1 Axes>"
            ],
            "image/png": "[encoded data removed]"
          },
          "metadata": {
            "needs_background": "light"
          }
        }
      ],
      "source": [
        "plt.figure(figsize=(8,5))\n",
        "sns.barplot('Item_Fat_Content','Item_Outlet_Sales',data=df,palette='winter')"
      ]
    },
    {
      "cell_type": "markdown",
      "metadata": {
        "id": "w3AyaGOS4nrT"
      },
      "source": [
        "<div dir=rtl>\n",
        "\n",
        "אין הבדל גדול במכירות בין מוצרים בעלי אחוז שומן נמוך לשאר המוצרים. <br>\n",
        "מן הראוי בגרף זה השתמשנו בדאטה המתוקן."
      ]
    },
    {
      "cell_type": "code",
      "execution_count": null,
      "metadata": {
        "colab": {
          "base_uri": "https://localhost:8080/",
          "height": 352
        },
        "id": "YccxA4Bw5SU-",
        "outputId": "bb0dcbd1-b29a-4726-eb06-fc38112568aa"
      },
      "outputs": [
        {
          "output_type": "execute_result",
          "data": {
            "text/plain": [
              "<matplotlib.legend.Legend at 0x7f3a96f88150>"
            ]
          },
          "metadata": {},
          "execution_count": 18
        },
        {
          "output_type": "display_data",
          "data": {
            "text/plain": [
              "<Figure size 1800x360 with 1 Axes>"
            ],
            "image/png": "[encoded data removed]"
          },
          "metadata": {
            "needs_background": "light"
          }
        }
      ],
      "source": [
        "plt.figure(figsize=(25,5))\n",
        "sns.barplot('Item_Type','Item_Outlet_Sales',hue='Item_Fat_Content',data=df,palette='RdBu')\n",
        "plt.legend()"
      ]
    },
    {
      "cell_type": "markdown",
      "metadata": {
        "id": "5AEbB4y850sH"
      },
      "source": [
        "<div dir=rtl>\n",
        "\n",
        "הגרף מתאר אחוזי שומן בכל מוצר ביחס להיקף מכירות. <br>\n",
        "לרוב רואים שלמוצרים הדלים בשומן יש היקף מכירות נמוך מעט אך ההבדלים לא משמעותיים."
      ]
    },
    {
      "cell_type": "code",
      "execution_count": null,
      "metadata": {
        "colab": {
          "base_uri": "https://localhost:8080/",
          "height": 352
        },
        "id": "7rSv0-lv6P_V",
        "outputId": "5b87ea67-74f1-43ee-e542-04753338e5a8"
      },
      "outputs": [
        {
          "output_type": "execute_result",
          "data": {
            "text/plain": [
              "<matplotlib.axes._subplots.AxesSubplot at 0x7f3a957292d0>"
            ]
          },
          "metadata": {},
          "execution_count": 19
        },
        {
          "output_type": "display_data",
          "data": {
            "text/plain": [
              "<Figure size 576x360 with 1 Axes>"
            ],
            "image/png": "[encoded data removed]"
          },
          "metadata": {
            "needs_background": "light"
          }
        }
      ],
      "source": [
        "plt.figure(figsize=(8,5))\n",
        "sns.barplot(x='Outlet_Establishment_Year',y='Item_Outlet_Sales',data=data,palette='rainbow')"
      ]
    },
    {
      "cell_type": "markdown",
      "metadata": {
        "id": "bPcR9Qwz7EEO"
      },
      "source": [
        "<div dir=rtl>\n",
        "\n",
        "ניתן לראות היקף מכירות חריג בחנות שנוסדה ב1998. בשאר החנויות שנוסדו בתאריכים האחרים היקף המכירות דומה, מה שלא מצביע על עלייה או ירידה בהיקף המכירות בהתאמה לותק החנות. (הפוך מהמצופה - שחנויות מבוססות יותר וותיקות יותר ישיגו היקף מכירות גבוה יותר ולקוחות קבועים)"
      ]
    },
    {
      "cell_type": "code",
      "execution_count": null,
      "metadata": {
        "colab": {
          "base_uri": "https://localhost:8080/",
          "height": 351
        },
        "id": "kdDfhgFD1IA4",
        "outputId": "2864fc06-9586-4dac-89f8-a0c2b79a85cb"
      },
      "outputs": [
        {
          "output_type": "execute_result",
          "data": {
            "text/plain": [
              "Text(0, 0.5, 'Item Outlet Sales')"
            ]
          },
          "metadata": {},
          "execution_count": 20
        },
        {
          "output_type": "display_data",
          "data": {
            "text/plain": [
              "<Figure size 576x360 with 1 Axes>"
            ],
            "image/png": "[encoded data removed]"
          },
          "metadata": {
            "needs_background": "light"
          }
        }
      ],
      "source": [
        "plt.figure(figsize=(8,5))\n",
        "plt.scatter(y='Item_Outlet_Sales',x='Item_MRP',data=data)\n",
        "plt.xlabel('Item MRP')\n",
        "plt.ylabel('Item Outlet Sales')"
      ]
    },
    {
      "cell_type": "markdown",
      "metadata": {
        "id": "XKIueM8F120j"
      },
      "source": [
        "<div dir=rtl>\n",
        "ניתן להסיק מגרף זה שהמוצרים שמתומחרים בסביבות 200-250 דולר הם בעלי היקף המכירות הגובה ביותר."
      ]
    },
    {
      "cell_type": "markdown",
      "metadata": {
        "id": "DaiwFy7PplUJ"
      },
      "source": [
        "<div dir=rtl>\n",
        "\n",
        "## מסקנות וסיכום האקספלורציה וההצגה הגרפית:\n",
        "1. ניתן לראות שהחנות הרווחית ביותר היא OUT27.<br>\n",
        "2. מוצרים הקשורים למשק בית ופירות וירקות הם הרווחיים ביותר.<br>\n",
        "3. חנויות קטנות יותר פחות ריווחיות.<br>\n",
        "4. המיקום משפיע על היקף המכירות, חנויות מסוג Teir2 וTeir3 ריווחיות יותר.<br>\n",
        "5. ותק החנות (חנות ישנה או חדשה) לא משנה את היקף המכירות.<br>\n",
        "6. מוצרים יקרים יותר הם בעלי היקף מכירות גבוהים יותר.<br>\n",
        "7. מוצרים בעלי ויזואליות 0 יקבלו ערך ממוצע בהתאם להסברים שתוארו קודם לכן.\n",
        "8. בעמודת Outlet_Size נציב ערך שכיחים. כיוון שחלק מהחנויות בעל אופי מסוים, לא מתואר הגודל שלהן.\n",
        "9. ערכים חסרים בעמודת Item_Weight נמלא בממוצע כיוון שהערכים רציפים והמשקלים לא קיצוניים."
      ]
    },
    {
      "cell_type": "markdown",
      "metadata": {
        "id": "FcuNqPB3sOjJ"
      },
      "source": [
        "<div dir=rtl>\n",
        "\n",
        "#   קידוד הערכים האלפא נומריים\n",
        " נקודד את הערכים כדי שנוכל לעבוד איתם במודלים השונים שנריץ. <br>\n",
        " הקידוד יתבצע בשיטת Label Encoder בה הערכים האפלא נומריים יקבלו ערכים מספרים שלמים."
      ]
    },
    {
      "cell_type": "code",
      "execution_count": null,
      "metadata": {
        "id": "136d0df7"
      },
      "outputs": [],
      "source": [
        "# #Label Encoder-> ldf-label data frame\n",
        "ldf = df.copy()\n",
        "lbl_encode = LabelEncoder()\n",
        "\n",
        "ldf['Item_Fat_Content']=lbl_encode.fit_transform(ldf['Item_Fat_Content'])\n",
        "ldf['Item_Type']=lbl_encode.fit_transform(ldf['Item_Type'])\n",
        "ldf['Outlet_Size']=lbl_encode.fit_transform(ldf['Outlet_Size'])\n",
        "ldf['Outlet_Type']=lbl_encode.fit_transform(ldf['Outlet_Type'])\n",
        "ldf['Item_Identifier']=lbl_encode.fit_transform(ldf['Item_Identifier'])\n",
        "ldf['Outlet_Identifier']=lbl_encode.fit_transform(ldf['Outlet_Identifier'])\n",
        "ldf['Outlet_Location_Type']=df['Outlet_Location_Type']\n"
      ]
    },
    {
      "cell_type": "markdown",
      "metadata": {
        "id": "n0BT8PxR8VvT"
      },
      "source": [
        "<div dir=rtl>\n",
        "\n",
        "קידוד בשיטת לייבל אינקודר את הערכים האלפא נומריים.<br>\n"
      ]
    },
    {
      "cell_type": "markdown",
      "metadata": {
        "id": "W3sGhqtNh2MV"
      },
      "source": [
        "<div dir=rtl>\n",
        "\n",
        "#השוואה בין מודלי חיזוי שונים וביצוע הפעולות הבאות:\n",
        "<br>\n",
        "1. חלוקת הדאטה לשלושה, אימון, ולידציה, ומבחן.<br>\n",
        "2. מציאת ההייפרפרמטרים המיטביים באמצעות פונקציות נבחרות (רצוי).<br>\n",
        "3. אימון המודל, קבלת רמת דיוק ובדיקה שלא קיים overfitting (בדיקת Score של אימון וולידציה) <br>\n",
        "4. בדיקת RMSE. <br><br>\n",
        "האינדיקציה הטובה ביותר לקבלת החלטה באיזה מודל להשתמש הוא RMSE.<br>\n",
        "RMSE(root mean square error)- גודל השגיאה הממוצע של המודל לחזות ערך מסוים."
      ]
    },
    {
      "cell_type": "markdown",
      "metadata": {
        "id": "F5HL6gVGOcff"
      },
      "source": [
        "<div dir=rtl>\n",
        "\n",
        "## XGBOOST Regression"
      ]
    },
    {
      "cell_type": "code",
      "execution_count": null,
      "metadata": {
        "colab": {
          "base_uri": "https://localhost:8080/"
        },
        "id": "LFSxj6v4PBW3",
        "outputId": "96e2aba0-cbfd-4b7d-e192-c1e377d39610"
      },
      "outputs": [
        {
          "output_type": "stream",
          "name": "stdout",
          "text": [
            "x_train: (5966, 11)\n",
            "x_val: (1278, 11)\n",
            "x_test: (1279, 11)\n",
            "y_train: (5966,)\n",
            "y_val: (1278,)\n",
            "y_test: (1279,)\n"
          ]
        }
      ],
      "source": [
        "x_XGBR= ldf.drop(columns='Item_Outlet_Sales', axis=1)\n",
        "y_XGBR= ldf.Item_Outlet_Sales\n",
        "\n",
        "x_train_XGBR, x_val_XGBR, y_train_XGBR, y_val_XGBR = train_test_split(x_XGBR, y_XGBR,test_size=0.3)\n",
        "x_val_XGBR,x_test_XGBR,y_val_XGBR,y_test_XGBR = train_test_split(x_val_XGBR, y_val_XGBR,test_size=0.5)\n",
        "\n",
        "print(f'x_train: {x_train_XGBR.shape}')\n",
        "print(f'x_val: {x_val_XGBR.shape}')\n",
        "print(f'x_test: {x_test_XGBR.shape}')\n",
        "print(f'y_train: {y_train_XGBR.shape}')\n",
        "print(f'y_val: {y_val_XGBR.shape}')\n",
        "print(f'y_test: {y_test_XGBR.shape}')"
      ]
    },
    {
      "cell_type": "code",
      "execution_count": null,
      "metadata": {
        "id": "4CBPyFh-W2qR"
      },
      "outputs": [],
      "source": [
        "params = { 'max_depth': [3, 5, 6, 10, 15, 20],\n",
        "           'learning_rate': [0.01, 0.1, 0.2, 0.3],\n",
        "           'subsample': np.arange(0.5, 1.0, 0.1),\n",
        "           'colsample_bytree': np.arange(0.4, 1.0, 0.1),\n",
        "           'colsample_bylevel': np.arange(0.4, 1.0, 0.1),\n",
        "           'n_estimators': [100, 500, 1000]}\n",
        "xgbr =XGBRegressor(seed = 20)\n",
        "clf = RandomizedSearchCV(estimator=xgbr,\n",
        "                         param_distributions=params,\n",
        "                         scoring='neg_mean_squared_error',\n",
        "                         n_iter=25,\n",
        "                         verbose=1)\n",
        "clf.fit(x_train_XGBR, y_train_XGBR)\n",
        "print(\"Best parameters:\", clf.best_params_)\n",
        "print(\"Lowest RMSE: \", (-clf.best_score_)**(1/2.0))"
      ]
    },
    {
      "cell_type": "markdown",
      "metadata": {
        "id": "ApvM3ef-ejz-"
      },
      "source": [
        "<div dir=rtl>\n",
        "\n",
        "מציאת ההיפרפרמטרים הטובים ביותר בעבור המודל.<br>"
      ]
    },
    {
      "cell_type": "code",
      "execution_count": null,
      "metadata": {
        "colab": {
          "base_uri": "https://localhost:8080/"
        },
        "id": "aPEhZ9qgOcOf",
        "outputId": "44734e7d-b1b9-4791-9fc9-ea0f6c75ed21"
      },
      "outputs": [
        {
          "output_type": "stream",
          "name": "stdout",
          "text": [
            "[17:10:20] WARNING: /workspace/src/objective/regression_obj.cu:152: reg:linear is now deprecated in favor of reg:squarederror.\n",
            "XGBoost Regressor Train score:  0.6356051918903802\n",
            "XGBoost Regressor Validtion score:  0.590106798011321\n"
          ]
        }
      ],
      "source": [
        "XGBR = XGBRegressor(subsample=0.6,n_estimators=100,max_depth=3,learning_rate=0.1,colsample_bytree=0.7999999999999999,colsample_bylevel=0.7999999999999999)\n",
        "XGBR.fit(x_train_XGBR, y_train_XGBR)\n",
        "\n",
        "\n",
        "print(\"XGBoost Regressor Train score: \",XGBR.score(x_train_XGBR, y_train_XGBR))\n",
        "print(\"XGBoost Regressor Validtion score: \",XGBR.score(x_val_XGBR, y_val_XGBR))"
      ]
    },
    {
      "cell_type": "markdown",
      "metadata": {
        "id": "LYSdrPM-eygk"
      },
      "source": [
        "<div dir=rtl>\n",
        "\n",
        "הפעלת מודל חיזוי XGBoost. <br>\n",
        "כאן לקחנו את הערכים שפונקציית מציאת ההיפרפרמטרים הטובים ביותר מצאה, חשוב להבהיר שבכל הרצה הפונקציית תוציא היפרפרמטרים מעט שונים."
      ]
    },
    {
      "cell_type": "code",
      "execution_count": null,
      "metadata": {
        "colab": {
          "base_uri": "https://localhost:8080/"
        },
        "id": "YLLfbk32s-tZ",
        "outputId": "17c36c5c-38d1-42e4-91ed-aab7f5a33419"
      },
      "outputs": [
        {
          "output_type": "stream",
          "name": "stdout",
          "text": [
            "XGBoost Regressor RMSE:  1086.2593860874651\n"
          ]
        }
      ],
      "source": [
        "y_pred_XGBR = XGBR.predict(x_val_XGBR)\n",
        "MSE_XGBR = metrics.mean_squared_error(y_val_XGBR, y_pred_XGBR)\n",
        "rmse_XGBR = np.sqrt(MSE_XGBR)\n",
        "print(\"XGBoost Regressor RMSE: \",rmse_XGBR)"
      ]
    },
    {
      "cell_type": "markdown",
      "metadata": {
        "id": "i8st6U0xOT8G"
      },
      "source": [
        "<div dir=rtl>\n",
        "\n",
        "## Random Forest Regressoin"
      ]
    },
    {
      "cell_type": "code",
      "execution_count": null,
      "metadata": {
        "colab": {
          "base_uri": "https://localhost:8080/"
        },
        "id": "Wz2hvKdJO9mA",
        "outputId": "569da931-d2c3-444a-e8a4-bdfa064a0259"
      },
      "outputs": [
        {
          "output_type": "stream",
          "name": "stdout",
          "text": [
            "x_train: (5966, 11)\n",
            "x_val: (1278, 11)\n",
            "x_test: (1279, 11)\n",
            "y_train: (5966,)\n",
            "y_val: (1278,)\n",
            "y_test: (1279,)\n"
          ]
        }
      ],
      "source": [
        "x_rfr= ldf.drop(columns='Item_Outlet_Sales', axis=1)\n",
        "y_rfr= ldf.Item_Outlet_Sales\n",
        "\n",
        "x_train_rfr, x_val_rfr, y_train_rfr, y_val_rfr = train_test_split(x_rfr, y_rfr,test_size=0.3)\n",
        "x_val_rfr,x_test_rfr,y_val_rfr,y_test_rfr = train_test_split(x_val_rfr, y_val_rfr,test_size=0.5)\n",
        "\n",
        "print(f'x_train: {x_train_rfr.shape}')\n",
        "print(f'x_val: {x_val_rfr.shape}')\n",
        "print(f'x_test: {x_test_rfr.shape}')\n",
        "print(f'y_train: {y_train_rfr.shape}')\n",
        "print(f'y_val: {y_val_rfr.shape}')\n",
        "print(f'y_test: {y_test_rfr.shape}')"
      ]
    },
    {
      "cell_type": "code",
      "execution_count": null,
      "metadata": {
        "id": "kMqdomia_dz0",
        "colab": {
          "base_uri": "https://localhost:8080/"
        },
        "outputId": "6e3360de-6c67-446b-89d3-e7e8a26488f3"
      },
      "outputs": [
        {
          "output_type": "stream",
          "name": "stdout",
          "text": [
            "Fitting 3 folds for each of 100 candidates, totalling 300 fits\n"
          ]
        },
        {
          "output_type": "execute_result",
          "data": {
            "text/plain": [
              "RandomizedSearchCV(cv=3, estimator=RandomForestRegressor(), n_iter=100,\n",
              "                   n_jobs=-1,\n",
              "                   param_distributions={'bootstrap': [True, False],\n",
              "                                        'max_depth': [3, 5, 7, 9, 11, 15],\n",
              "                                        'max_features': ['auto', 'sqrt'],\n",
              "                                        'n_estimators': [10, 20, 40, 50, 100,\n",
              "                                                         150, 200, 500]},\n",
              "                   random_state=42, verbose=2)"
            ]
          },
          "metadata": {},
          "execution_count": 61
        }
      ],
      "source": [
        "from sklearn.model_selection import RandomizedSearchCV# Number of trees in random forest\n",
        "random_grid = {\n",
        "                'n_estimators': [10, 20, 40, 50, 100, 150, 200, 500],\n",
        "                'max_features': ['auto', 'sqrt'],\n",
        "                'max_depth': [3, 5, 7, 9, 11, 15],\n",
        "                'bootstrap': [True, False]\n",
        "                }\n",
        "rfr = RandomForestRegressor()\n",
        "rfr_random = RandomizedSearchCV(estimator = rfr, param_distributions = random_grid, n_iter = 100, cv = 3, verbose=2, random_state=42, n_jobs = -1)\n",
        "rfr_random.fit(x_train_rfr, y_train_rfr.ravel())\n"
      ]
    },
    {
      "cell_type": "code",
      "source": [
        "y_pred_rfr = rfr_random.predict(x_val_rfr)\n",
        "MSE_rfr = metrics.mean_squared_error(y_val_rfr, y_pred_rfr)\n",
        "rmse_rfr = np.sqrt(MSE_rfr)\n",
        "\n",
        "print(\"Random Forest Regressor RMSE: \",rmse_rfr)"
      ],
      "metadata": {
        "id": "x5oCbjy5gn_Z",
        "colab": {
          "base_uri": "https://localhost:8080/"
        },
        "outputId": "299c19fe-f195-4dca-fd48-4409ccdd91f4"
      },
      "execution_count": null,
      "outputs": [
        {
          "output_type": "stream",
          "name": "stdout",
          "text": [
            "Random Forest Regressor RMSE:  1059.999804970605\n"
          ]
        }
      ]
    },
    {
      "cell_type": "markdown",
      "metadata": {
        "id": "hyBfuIEZAeBP"
      },
      "source": [
        "<div dir=rtl>\n",
        "\n",
        "הקוד בודק את הייפרפרמטרים הטובים ביותר עבור המודל RandomForest ומאמן את המודל בהתאם לערכים הטובים ביותר שהוא מצא."
      ]
    },
    {
      "cell_type": "code",
      "execution_count": null,
      "metadata": {
        "id": "Cz-XS2JaAZ-l",
        "colab": {
          "base_uri": "https://localhost:8080/"
        },
        "outputId": "f9766d27-7d95-48c0-bb15-b0fcf326f25b"
      },
      "outputs": [
        {
          "output_type": "stream",
          "name": "stdout",
          "text": [
            "Random Forest Regressor Train score:  0.613517119952776\n",
            "Random Forest Regressor Validtion score:  0.6007506201467715\n"
          ]
        }
      ],
      "source": [
        "print(\"Random Forest Regressor Train score: \",rfr_random.score(x_train_rfr, y_train_rfr))\n",
        "print(\"Random Forest Regressor Validtion score: \",rfr_random.score(x_val_rfr, y_val_rfr))"
      ]
    },
    {
      "cell_type": "code",
      "execution_count": null,
      "metadata": {
        "id": "t-3QMUMQswAS",
        "colab": {
          "base_uri": "https://localhost:8080/"
        },
        "outputId": "ad925fed-c5ae-48d8-b384-292a048bb18d"
      },
      "outputs": [
        {
          "output_type": "stream",
          "name": "stdout",
          "text": [
            "Random Forest Regressor RMSE:  1059.999804970605\n"
          ]
        }
      ],
      "source": [
        "y_pred_rfr = rfr_random.predict(x_val_rfr)\n",
        "MSE_rfr = metrics.mean_squared_error(y_val_rfr, y_pred_rfr)\n",
        "rmse_rfr = np.sqrt(MSE_rfr)\n",
        "\n",
        "print(\"Random Forest Regressor RMSE: \",rmse_rfr)"
      ]
    },
    {
      "cell_type": "markdown",
      "metadata": {
        "id": "LEumzU4x4YBQ"
      },
      "source": [
        "<div dir=rtl>\n",
        "\n",
        "## Linear Regression"
      ]
    },
    {
      "cell_type": "code",
      "execution_count": null,
      "metadata": {
        "id": "t2gtzCQp4mXq",
        "colab": {
          "base_uri": "https://localhost:8080/"
        },
        "outputId": "c79459ae-3ad2-4821-da24-59463b0d0df7"
      },
      "outputs": [
        {
          "output_type": "stream",
          "name": "stdout",
          "text": [
            "x_train: (5966, 11)\n",
            "x_val: (1278, 11)\n",
            "x_test: (1279, 11)\n",
            "y_train: (5966,)\n",
            "y_val: (1278,)\n",
            "y_test: (1279,)\n"
          ]
        }
      ],
      "source": [
        "x_LR= ldf.drop(columns='Item_Outlet_Sales', axis=1)\n",
        "y_LR= ldf.Item_Outlet_Sales\n",
        "\n",
        "x_train_LR, x_val_LR, y_train_LR, y_val_LR = train_test_split(x_LR, y_LR,test_size=0.3)\n",
        "x_val_LR,x_test_LR,y_val_LR,y_test_LR = train_test_split(x_val_LR, y_val_LR,test_size=0.5)\n",
        "\n",
        "print(f'x_train: {x_train_LR.shape}')\n",
        "print(f'x_val: {x_val_LR.shape}')\n",
        "print(f'x_test: {x_test_LR.shape}')\n",
        "print(f'y_train: {y_train_LR.shape}')\n",
        "print(f'y_val: {y_val_LR.shape}')\n",
        "print(f'y_test: {y_test_LR.shape}')"
      ]
    },
    {
      "cell_type": "code",
      "execution_count": null,
      "metadata": {
        "id": "2TV_zSe17qFn",
        "colab": {
          "base_uri": "https://localhost:8080/"
        },
        "outputId": "0ce5fd25-e596-4e7e-a524-a8aaef32323d"
      },
      "outputs": [
        {
          "output_type": "stream",
          "name": "stdout",
          "text": [
            "Linear Regressor Train score:  0.5044512337216678\n",
            "Linear Regressor Validtion score:  0.5207892533422093\n"
          ]
        }
      ],
      "source": [
        "lr = LinearRegression()\n",
        "lr.fit(x_train_LR,y_train_LR)\n",
        "print(\"Linear Regressor Train score: \",lr.score(x_train_LR, y_train_LR))\n",
        "print(\"Linear Regressor Validtion score: \",lr.score(x_val_LR, y_val_LR))"
      ]
    },
    {
      "cell_type": "code",
      "execution_count": null,
      "metadata": {
        "id": "bFpun7ic8HEx",
        "colab": {
          "base_uri": "https://localhost:8080/"
        },
        "outputId": "87173392-5d23-41e1-a57e-bd17a2edb994"
      },
      "outputs": [
        {
          "output_type": "stream",
          "name": "stdout",
          "text": [
            "Linear Regressor RMSE:  1203.4505986510217\n"
          ]
        }
      ],
      "source": [
        "y_pred_LR = lr.predict(x_val_LR)\n",
        "MSE_LR = metrics.mean_squared_error(y_val_LR, y_pred_LR)\n",
        "rmse_LR = np.sqrt(MSE_LR)\n",
        "print(\"Linear Regressor RMSE: \",rmse_LR)"
      ]
    },
    {
      "cell_type": "markdown",
      "metadata": {
        "id": "_ZXN5VyUznG_"
      },
      "source": [
        "<div dir=rtl>\n",
        "\n",
        "## Lasso Regresssion"
      ]
    },
    {
      "cell_type": "code",
      "execution_count": null,
      "metadata": {
        "id": "UwuvsL77zuBE",
        "colab": {
          "base_uri": "https://localhost:8080/"
        },
        "outputId": "754e0312-b871-456b-b7ca-b4b849ffb21a"
      },
      "outputs": [
        {
          "output_type": "stream",
          "name": "stdout",
          "text": [
            "x_train: (5966, 11)\n",
            "x_val: (1278, 11)\n",
            "x_test: (1279, 11)\n",
            "y_train: (5966,)\n",
            "y_val: (1278,)\n",
            "y_test: (1279,)\n"
          ]
        }
      ],
      "source": [
        "x_lasso= ldf.drop(columns='Item_Outlet_Sales', axis=1)\n",
        "y_lasso= ldf.Item_Outlet_Sales\n",
        "\n",
        "x_train_lasso, x_val_lasso, y_train_lasso, y_val_lasso = train_test_split(x_lasso, y_lasso,test_size=0.3)\n",
        "x_val_lasso,x_test_lasso,y_val_lasso,y_test_lasso = train_test_split(x_val_lasso, y_val_lasso,test_size=0.5)\n",
        "\n",
        "print(f'x_train: {x_train_lasso.shape}')\n",
        "print(f'x_val: {x_val_lasso.shape}')\n",
        "print(f'x_test: {x_test_lasso.shape}')\n",
        "print(f'y_train: {y_train_lasso.shape}')\n",
        "print(f'y_val: {y_val_lasso.shape}')\n",
        "print(f'y_test: {y_test_lasso.shape}')"
      ]
    },
    {
      "cell_type": "code",
      "execution_count": null,
      "metadata": {
        "id": "1DyHyPty0BAB",
        "colab": {
          "base_uri": "https://localhost:8080/"
        },
        "outputId": "0193efc6-e77c-41a8-c731-4da8f08043ae"
      },
      "outputs": [
        {
          "output_type": "stream",
          "name": "stdout",
          "text": [
            "Lasso Regressor Train score:  0.502354026394207\n",
            "Lasso Regressor Validtion score:  0.5082453133343715\n"
          ]
        }
      ],
      "source": [
        "lasso = Lasso()\n",
        "lasso.fit(x_train_lasso,y_train_lasso)\n",
        "print(\"Lasso Regressor Train score: \",lasso.score(x_train_lasso, y_train_lasso))\n",
        "print(\"Lasso Regressor Validtion score: \",lasso.score(x_val_lasso, y_val_lasso))"
      ]
    },
    {
      "cell_type": "code",
      "execution_count": null,
      "metadata": {
        "id": "Thxq4YJR1OxY",
        "colab": {
          "base_uri": "https://localhost:8080/"
        },
        "outputId": "d8a91eac-4bcf-4661-e6d0-1f56a0bbf7bc"
      },
      "outputs": [
        {
          "output_type": "stream",
          "name": "stdout",
          "text": [
            "Lasso Regressor RMSE:  1170.7791434966944\n"
          ]
        }
      ],
      "source": [
        "y_pred_lasso = lr.predict(x_val_lasso)\n",
        "MSE_lasso = metrics.mean_squared_error(y_val_lasso, y_pred_lasso)\n",
        "rmse_lasso = np.sqrt(MSE_lasso)\n",
        "print(\"Lasso Regressor RMSE: \",rmse_lasso)"
      ]
    },
    {
      "cell_type": "markdown",
      "metadata": {
        "id": "jSVdFXEavj6H"
      },
      "source": [
        "<div dir=rtl>\n",
        "\n",
        "# השוואה בין המודלים"
      ]
    },
    {
      "cell_type": "code",
      "execution_count": null,
      "metadata": {
        "id": "mPLVBtPRvnwa"
      },
      "outputs": [],
      "source": [
        "rmse_list=[rmse_XGBR, rmse_rfr, rmse_LR, rmse_lasso]\n",
        "model_names=['XGBoost Regression','Random Forest Regression','Linear Regression', 'Lasso Regression']\n",
        "evaluation = pd.DataFrame({'Model': model_names, 'RMSE': rmse_list})"
      ]
    },
    {
      "cell_type": "code",
      "execution_count": null,
      "metadata": {
        "id": "LN6SYz3_yHSr",
        "colab": {
          "base_uri": "https://localhost:8080/",
          "height": 175
        },
        "outputId": "41c97d7b-cc88-4be6-c7b5-997ec71825e8"
      },
      "outputs": [
        {
          "output_type": "execute_result",
          "data": {
            "text/plain": [
              "                      Model         RMSE\n",
              "0        XGBoost Regression  1086.259386\n",
              "1  Random Forest Regression  1059.999805\n",
              "2         Linear Regression  1203.450599\n",
              "3          Lasso Regression  1170.779143"
            ],
            "text/html": [
              "\n",
              "  <div id=\"df-06a6e512-a11a-49f2-9b5b-8c9cb5eb84db\">\n",
              "    <div class=\"colab-df-container\">\n",
              "      <div>\n",
              "<style scoped>\n",
              "    .dataframe tbody tr th:only-of-type {\n",
              "        vertical-align: middle;\n",
              "    }\n",
              "\n",
              "    .dataframe tbody tr th {\n",
              "        vertical-align: top;\n",
              "    }\n",
              "\n",
              "    .dataframe thead th {\n",
              "        text-align: right;\n",
              "    }\n",
              "</style>\n",
              "<table border=\"1\" class=\"dataframe\">\n",
              "  <thead>\n",
              "    <tr style=\"text-align: right;\">\n",
              "      <th></th>\n",
              "      <th>Model</th>\n",
              "      <th>RMSE</th>\n",
              "    </tr>\n",
              "  </thead>\n",
              "  <tbody>\n",
              "    <tr>\n",
              "      <th>0</th>\n",
              "      <td>XGBoost Regression</td>\n",
              "      <td>1086.259386</td>\n",
              "    </tr>\n",
              "    <tr>\n",
              "      <th>1</th>\n",
              "      <td>Random Forest Regression</td>\n",
              "      <td>1059.999805</td>\n",
              "    </tr>\n",
              "    <tr>\n",
              "      <th>2</th>\n",
              "      <td>Linear Regression</td>\n",
              "      <td>1203.450599</td>\n",
              "    </tr>\n",
              "    <tr>\n",
              "      <th>3</th>\n",
              "      <td>Lasso Regression</td>\n",
              "      <td>1170.779143</td>\n",
              "    </tr>\n",
              "  </tbody>\n",
              "</table>\n",
              "</div>\n",
              "      <button class=\"colab-df-convert\" onclick=\"convertToInteractive('df-06a6e512-a11a-49f2-9b5b-8c9cb5eb84db')\"\n",
              "              title=\"Convert this dataframe to an interactive table.\"\n",
              "              style=\"display:none;\">\n",
              "        \n",
              "  <svg xmlns=\"http://www.w3.org/2000/svg\" height=\"24px\"viewBox=\"0 0 24 24\"\n",
              "       width=\"24px\">\n",
              "    <path d=\"M0 0h24v24H0V0z\" fill=\"none\"/>\n",
              "    <path d=\"M18.56 5.44l.94 2.06.94-2.06 2.06-.94-2.06-.94-.94-2.06-.94 2.06-2.06.94zm-11 1L8.5 8.5l.94-2.06 2.06-.94-2.06-.94L8.5 2.5l-.94 2.06-2.06.94zm10 10l.94 2.06.94-2.06 2.06-.94-2.06-.94-.94-2.06-.94 2.06-2.06.94z\"/><path d=\"M17.41 7.96l-1.37-1.37c-.4-.4-.92-.59-1.43-.59-.52 0-1.04.2-1.43.59L10.3 9.45l-7.72 7.72c-.78.78-.78 2.05 0 2.83L4 21.41c.39.39.9.59 1.41.59.51 0 1.02-.2 1.41-.59l7.78-7.78 2.81-2.81c.8-.78.8-2.07 0-2.86zM5.41 20L4 18.59l7.72-7.72 1.47 1.35L5.41 20z\"/>\n",
              "  </svg>\n",
              "      </button>\n",
              "      \n",
              "  <style>\n",
              "    .colab-df-container {\n",
              "      display:flex;\n",
              "      flex-wrap:wrap;\n",
              "      gap: 12px;\n",
              "    }\n",
              "\n",
              "    .colab-df-convert {\n",
              "      background-color: #E8F0FE;\n",
              "      border: none;\n",
              "      border-radius: 50%;\n",
              "      cursor: pointer;\n",
              "      display: none;\n",
              "      fill: #1967D2;\n",
              "      height: 32px;\n",
              "      padding: 0 0 0 0;\n",
              "      width: 32px;\n",
              "    }\n",
              "\n",
              "    .colab-df-convert:hover {\n",
              "      background-color: #E2EBFA;\n",
              "      box-shadow: 0px 1px 2px rgba(60, 64, 67, 0.3), 0px 1px 3px 1px rgba(60, 64, 67, 0.15);\n",
              "      fill: #174EA6;\n",
              "    }\n",
              "\n",
              "    [theme=dark] .colab-df-convert {\n",
              "      background-color: #3B4455;\n",
              "      fill: #D2E3FC;\n",
              "    }\n",
              "\n",
              "    [theme=dark] .colab-df-convert:hover {\n",
              "      background-color: #434B5C;\n",
              "      box-shadow: 0px 1px 3px 1px rgba(0, 0, 0, 0.15);\n",
              "      filter: drop-shadow(0px 1px 2px rgba(0, 0, 0, 0.3));\n",
              "      fill: #FFFFFF;\n",
              "    }\n",
              "  </style>\n",
              "\n",
              "      <script>\n",
              "        const buttonEl =\n",
              "          document.querySelector('#df-06a6e512-a11a-49f2-9b5b-8c9cb5eb84db button.colab-df-convert');\n",
              "        buttonEl.style.display =\n",
              "          google.colab.kernel.accessAllowed ? 'block' : 'none';\n",
              "\n",
              "        async function convertToInteractive(key) {\n",
              "          const element = document.querySelector('#df-06a6e512-a11a-49f2-9b5b-8c9cb5eb84db');\n",
              "          const dataTable =\n",
              "            await google.colab.kernel.invokeFunction('convertToInteractive',\n",
              "                                                     [key], {});\n",
              "          if (!dataTable) return;\n",
              "\n",
              "          const docLinkHtml = 'Like what you see? Visit the ' +\n",
              "            '<a target=\"_blank\" href=https://colab.research.google.com/notebooks/data_table.ipynb>data table notebook</a>'\n",
              "            + ' to learn more about interactive tables.';\n",
              "          element.innerHTML = '';\n",
              "          dataTable['output_type'] = 'display_data';\n",
              "          await google.colab.output.renderOutput(dataTable, element);\n",
              "          const docLink = document.createElement('div');\n",
              "          docLink.innerHTML = docLinkHtml;\n",
              "          element.appendChild(docLink);\n",
              "        }\n",
              "      </script>\n",
              "    </div>\n",
              "  </div>\n",
              "  "
            ]
          },
          "metadata": {},
          "execution_count": 72
        }
      ],
      "source": [
        "evaluation"
      ]
    },
    {
      "cell_type": "markdown",
      "source": [
        "<div dir=rtl>\n",
        "\n",
        "כל הרצה ה RMSE היה שונה מעט. <br>\n",
        "XGBOOST Regressor וRandomForest Regressor הציגו ביצועים טובים יותר.<br><br>\n",
        "\n",
        "לאחר כ-10 ריצות הסקנו כי הRMSE של RandomForest Regressor היה הנמוך ביותר ברוב המקרים לכן בחרנו להמשיך עם מודל זה.\n"
      ],
      "metadata": {
        "id": "yxlsBqvE28gU"
      }
    },
    {
      "cell_type": "markdown",
      "metadata": {
        "id": "brm8vSqysdEj"
      },
      "source": [
        "<div dir=rtl>\n",
        "\n",
        "# בניית DataFrame שיכיל את הערכים הנחזים והמרה לקובץ CSV\n"
      ]
    },
    {
      "cell_type": "markdown",
      "metadata": {
        "id": "xSHS2kAu4DwH"
      },
      "source": [
        "<div dir=rtl>\n",
        "\n",
        "בשלב זה החלטנו על המודל שנחזה להיות הטוב ביותר - בעל אחוז השגיאה הריבועית הקטנה ביותר. <br> <br>\n",
        "אנחנו בחרנו במודל של -   Random Forest Regressor <br>\n",
        "כעת ניצור דאטאפריים חדש עם ערכי ה- test של המודל  ולאחר מכן נייצא את התוצאות לאקסל."
      ]
    },
    {
      "cell_type": "code",
      "execution_count": null,
      "metadata": {
        "id": "2rS79dIp3-g-"
      },
      "outputs": [],
      "source": [
        "x_i_list=x_test_rfr.index.tolist() #x test"
      ]
    },
    {
      "cell_type": "markdown",
      "metadata": {
        "id": "fJ0qrYPS4sSm"
      },
      "source": [
        "<div dir=rtl>\n",
        "ראשית ניצור רשימה של כל האינדקסים הרלוונטיים שהמודל הוציא עבור המבחן."
      ]
    },
    {
      "cell_type": "code",
      "execution_count": null,
      "metadata": {
        "id": "LiB5MTX68LSs"
      },
      "outputs": [],
      "source": [
        "y_pred_final =rfr_random.predict(x_test_rfr)"
      ]
    },
    {
      "cell_type": "markdown",
      "metadata": {
        "id": "tOxFlFgq8uAD"
      },
      "source": [
        "<div dir=rtl>\n",
        " נוציא את הערכים שהמודל חזה למשתנה חדש."
      ]
    },
    {
      "cell_type": "code",
      "execution_count": null,
      "metadata": {
        "id": "o8IR21hbmHLN",
        "colab": {
          "base_uri": "https://localhost:8080/",
          "height": 424
        },
        "outputId": "22f7cc9a-08a0-4ac2-e389-e69956e79209"
      },
      "outputs": [
        {
          "output_type": "execute_result",
          "data": {
            "text/plain": [
              "     Item_Identifier Outlet_Identifier  Item_Outlet_Sales\n",
              "993            NCM31            OUT017        2192.844324\n",
              "5848           FDE24            OUT045        2192.844324\n",
              "8160           NCP17            OUT027        1714.206889\n",
              "92             DRI25            OUT045         836.401571\n",
              "5335           FDV28            OUT017         686.649767\n",
              "...              ...               ...                ...\n",
              "3400           FDE11            OUT035        3080.692549\n",
              "5106           FDY33            OUT019         363.722338\n",
              "1309           FDX16            OUT013        2413.061627\n",
              "5277           FDD57            OUT035        1574.987070\n",
              "5467           FDF10            OUT013        2413.061627\n",
              "\n",
              "[1279 rows x 3 columns]"
            ],
            "text/html": [
              "\n",
              "  <div id=\"df-511e8092-6ae7-49dc-873f-870364a0d9ad\">\n",
              "    <div class=\"colab-df-container\">\n",
              "      <div>\n",
              "<style scoped>\n",
              "    .dataframe tbody tr th:only-of-type {\n",
              "        vertical-align: middle;\n",
              "    }\n",
              "\n",
              "    .dataframe tbody tr th {\n",
              "        vertical-align: top;\n",
              "    }\n",
              "\n",
              "    .dataframe thead th {\n",
              "        text-align: right;\n",
              "    }\n",
              "</style>\n",
              "<table border=\"1\" class=\"dataframe\">\n",
              "  <thead>\n",
              "    <tr style=\"text-align: right;\">\n",
              "      <th></th>\n",
              "      <th>Item_Identifier</th>\n",
              "      <th>Outlet_Identifier</th>\n",
              "      <th>Item_Outlet_Sales</th>\n",
              "    </tr>\n",
              "  </thead>\n",
              "  <tbody>\n",
              "    <tr>\n",
              "      <th>993</th>\n",
              "      <td>NCM31</td>\n",
              "      <td>OUT017</td>\n",
              "      <td>2192.844324</td>\n",
              "    </tr>\n",
              "    <tr>\n",
              "      <th>5848</th>\n",
              "      <td>FDE24</td>\n",
              "      <td>OUT045</td>\n",
              "      <td>2192.844324</td>\n",
              "    </tr>\n",
              "    <tr>\n",
              "      <th>8160</th>\n",
              "      <td>NCP17</td>\n",
              "      <td>OUT027</td>\n",
              "      <td>1714.206889</td>\n",
              "    </tr>\n",
              "    <tr>\n",
              "      <th>92</th>\n",
              "      <td>DRI25</td>\n",
              "      <td>OUT045</td>\n",
              "      <td>836.401571</td>\n",
              "    </tr>\n",
              "    <tr>\n",
              "      <th>5335</th>\n",
              "      <td>FDV28</td>\n",
              "      <td>OUT017</td>\n",
              "      <td>686.649767</td>\n",
              "    </tr>\n",
              "    <tr>\n",
              "      <th>...</th>\n",
              "      <td>...</td>\n",
              "      <td>...</td>\n",
              "      <td>...</td>\n",
              "    </tr>\n",
              "    <tr>\n",
              "      <th>3400</th>\n",
              "      <td>FDE11</td>\n",
              "      <td>OUT035</td>\n",
              "      <td>3080.692549</td>\n",
              "    </tr>\n",
              "    <tr>\n",
              "      <th>5106</th>\n",
              "      <td>FDY33</td>\n",
              "      <td>OUT019</td>\n",
              "      <td>363.722338</td>\n",
              "    </tr>\n",
              "    <tr>\n",
              "      <th>1309</th>\n",
              "      <td>FDX16</td>\n",
              "      <td>OUT013</td>\n",
              "      <td>2413.061627</td>\n",
              "    </tr>\n",
              "    <tr>\n",
              "      <th>5277</th>\n",
              "      <td>FDD57</td>\n",
              "      <td>OUT035</td>\n",
              "      <td>1574.987070</td>\n",
              "    </tr>\n",
              "    <tr>\n",
              "      <th>5467</th>\n",
              "      <td>FDF10</td>\n",
              "      <td>OUT013</td>\n",
              "      <td>2413.061627</td>\n",
              "    </tr>\n",
              "  </tbody>\n",
              "</table>\n",
              "<p>1279 rows × 3 columns</p>\n",
              "</div>\n",
              "      <button class=\"colab-df-convert\" onclick=\"convertToInteractive('df-511e8092-6ae7-49dc-873f-870364a0d9ad')\"\n",
              "              title=\"Convert this dataframe to an interactive table.\"\n",
              "              style=\"display:none;\">\n",
              "        \n",
              "  <svg xmlns=\"http://www.w3.org/2000/svg\" height=\"24px\"viewBox=\"0 0 24 24\"\n",
              "       width=\"24px\">\n",
              "    <path d=\"M0 0h24v24H0V0z\" fill=\"none\"/>\n",
              "    <path d=\"M18.56 5.44l.94 2.06.94-2.06 2.06-.94-2.06-.94-.94-2.06-.94 2.06-2.06.94zm-11 1L8.5 8.5l.94-2.06 2.06-.94-2.06-.94L8.5 2.5l-.94 2.06-2.06.94zm10 10l.94 2.06.94-2.06 2.06-.94-2.06-.94-.94-2.06-.94 2.06-2.06.94z\"/><path d=\"M17.41 7.96l-1.37-1.37c-.4-.4-.92-.59-1.43-.59-.52 0-1.04.2-1.43.59L10.3 9.45l-7.72 7.72c-.78.78-.78 2.05 0 2.83L4 21.41c.39.39.9.59 1.41.59.51 0 1.02-.2 1.41-.59l7.78-7.78 2.81-2.81c.8-.78.8-2.07 0-2.86zM5.41 20L4 18.59l7.72-7.72 1.47 1.35L5.41 20z\"/>\n",
              "  </svg>\n",
              "      </button>\n",
              "      \n",
              "  <style>\n",
              "    .colab-df-container {\n",
              "      display:flex;\n",
              "      flex-wrap:wrap;\n",
              "      gap: 12px;\n",
              "    }\n",
              "\n",
              "    .colab-df-convert {\n",
              "      background-color: #E8F0FE;\n",
              "      border: none;\n",
              "      border-radius: 50%;\n",
              "      cursor: pointer;\n",
              "      display: none;\n",
              "      fill: #1967D2;\n",
              "      height: 32px;\n",
              "      padding: 0 0 0 0;\n",
              "      width: 32px;\n",
              "    }\n",
              "\n",
              "    .colab-df-convert:hover {\n",
              "      background-color: #E2EBFA;\n",
              "      box-shadow: 0px 1px 2px rgba(60, 64, 67, 0.3), 0px 1px 3px 1px rgba(60, 64, 67, 0.15);\n",
              "      fill: #174EA6;\n",
              "    }\n",
              "\n",
              "    [theme=dark] .colab-df-convert {\n",
              "      background-color: #3B4455;\n",
              "      fill: #D2E3FC;\n",
              "    }\n",
              "\n",
              "    [theme=dark] .colab-df-convert:hover {\n",
              "      background-color: #434B5C;\n",
              "      box-shadow: 0px 1px 3px 1px rgba(0, 0, 0, 0.15);\n",
              "      filter: drop-shadow(0px 1px 2px rgba(0, 0, 0, 0.3));\n",
              "      fill: #FFFFFF;\n",
              "    }\n",
              "  </style>\n",
              "\n",
              "      <script>\n",
              "        const buttonEl =\n",
              "          document.querySelector('#df-511e8092-6ae7-49dc-873f-870364a0d9ad button.colab-df-convert');\n",
              "        buttonEl.style.display =\n",
              "          google.colab.kernel.accessAllowed ? 'block' : 'none';\n",
              "\n",
              "        async function convertToInteractive(key) {\n",
              "          const element = document.querySelector('#df-511e8092-6ae7-49dc-873f-870364a0d9ad');\n",
              "          const dataTable =\n",
              "            await google.colab.kernel.invokeFunction('convertToInteractive',\n",
              "                                                     [key], {});\n",
              "          if (!dataTable) return;\n",
              "\n",
              "          const docLinkHtml = 'Like what you see? Visit the ' +\n",
              "            '<a target=\"_blank\" href=https://colab.research.google.com/notebooks/data_table.ipynb>data table notebook</a>'\n",
              "            + ' to learn more about interactive tables.';\n",
              "          element.innerHTML = '';\n",
              "          dataTable['output_type'] = 'display_data';\n",
              "          await google.colab.output.renderOutput(dataTable, element);\n",
              "          const docLink = document.createElement('div');\n",
              "          docLink.innerHTML = docLinkHtml;\n",
              "          element.appendChild(docLink);\n",
              "        }\n",
              "      </script>\n",
              "    </div>\n",
              "  </div>\n",
              "  "
            ]
          },
          "metadata": {},
          "execution_count": 75
        }
      ],
      "source": [
        "data_output = pd.DataFrame(columns=['Item_Identifier','Outlet_Identifier','Item_Outlet_Sales'])\n",
        "data_output = data_output.append(df.loc[x_i_list,['Item_Identifier','Outlet_Identifier']])\n",
        "data_output.Item_Outlet_Sales=y_pred_final #y predicted tests\n",
        "\n",
        "data_output # the new dataframe we've created"
      ]
    },
    {
      "cell_type": "markdown",
      "metadata": {
        "id": "qJsqK1GB5LLF"
      },
      "source": [
        "<div dir=rtl>\n",
        "\n",
        "בשורת קוד העליונה אנו בונים דאטאפריים שיכיל את המוצרים השונים בחנויות אותו הם ימכרו.<br>\n",
        "בעמודה האחרונה  (Item_Outlet_Sales) אנחנו נראה את התחזית של המודל שלנו. <br>\n",
        "את הדאטאפריים הזה בהמשך נייצא לקובץ אקסל ונאפס את האינדקסים בשביל האסטטיקה."
      ]
    },
    {
      "cell_type": "code",
      "execution_count": null,
      "metadata": {
        "id": "xunBLZXfPBh6",
        "colab": {
          "base_uri": "https://localhost:8080/",
          "height": 424
        },
        "outputId": "b4191323-cbb3-4002-c540-84bfd0151e52"
      },
      "outputs": [
        {
          "output_type": "execute_result",
          "data": {
            "text/plain": [
              "     Item_Identifier Outlet_Identifier  Predicted_Outlet  Original_Outlet\n",
              "993            NCM31            OUT017       2192.844324        2836.3080\n",
              "5848           FDE24            OUT045       2192.844324         427.4436\n",
              "8160           NCP17            OUT027       1714.206889        1661.8368\n",
              "92             DRI25            OUT045        836.401571        1381.5350\n",
              "5335           FDV28            OUT017        686.649767         339.5580\n",
              "...              ...               ...               ...              ...\n",
              "3400           FDE11            OUT035       3080.692549        7033.5112\n",
              "5106           FDY33            OUT019        363.722338         159.1262\n",
              "1309           FDX16            OUT013       2413.061627        2546.6850\n",
              "5277           FDD57            OUT035       1574.987070        1332.9316\n",
              "5467           FDF10            OUT013       2413.061627        3972.8286\n",
              "\n",
              "[1279 rows x 4 columns]"
            ],
            "text/html": [
              "\n",
              "  <div id=\"df-8cdb7061-e573-4a3c-b5e8-fb2a6f2be939\">\n",
              "    <div class=\"colab-df-container\">\n",
              "      <div>\n",
              "<style scoped>\n",
              "    .dataframe tbody tr th:only-of-type {\n",
              "        vertical-align: middle;\n",
              "    }\n",
              "\n",
              "    .dataframe tbody tr th {\n",
              "        vertical-align: top;\n",
              "    }\n",
              "\n",
              "    .dataframe thead th {\n",
              "        text-align: right;\n",
              "    }\n",
              "</style>\n",
              "<table border=\"1\" class=\"dataframe\">\n",
              "  <thead>\n",
              "    <tr style=\"text-align: right;\">\n",
              "      <th></th>\n",
              "      <th>Item_Identifier</th>\n",
              "      <th>Outlet_Identifier</th>\n",
              "      <th>Predicted_Outlet</th>\n",
              "      <th>Original_Outlet</th>\n",
              "    </tr>\n",
              "  </thead>\n",
              "  <tbody>\n",
              "    <tr>\n",
              "      <th>993</th>\n",
              "      <td>NCM31</td>\n",
              "      <td>OUT017</td>\n",
              "      <td>2192.844324</td>\n",
              "      <td>2836.3080</td>\n",
              "    </tr>\n",
              "    <tr>\n",
              "      <th>5848</th>\n",
              "      <td>FDE24</td>\n",
              "      <td>OUT045</td>\n",
              "      <td>2192.844324</td>\n",
              "      <td>427.4436</td>\n",
              "    </tr>\n",
              "    <tr>\n",
              "      <th>8160</th>\n",
              "      <td>NCP17</td>\n",
              "      <td>OUT027</td>\n",
              "      <td>1714.206889</td>\n",
              "      <td>1661.8368</td>\n",
              "    </tr>\n",
              "    <tr>\n",
              "      <th>92</th>\n",
              "      <td>DRI25</td>\n",
              "      <td>OUT045</td>\n",
              "      <td>836.401571</td>\n",
              "      <td>1381.5350</td>\n",
              "    </tr>\n",
              "    <tr>\n",
              "      <th>5335</th>\n",
              "      <td>FDV28</td>\n",
              "      <td>OUT017</td>\n",
              "      <td>686.649767</td>\n",
              "      <td>339.5580</td>\n",
              "    </tr>\n",
              "    <tr>\n",
              "      <th>...</th>\n",
              "      <td>...</td>\n",
              "      <td>...</td>\n",
              "      <td>...</td>\n",
              "      <td>...</td>\n",
              "    </tr>\n",
              "    <tr>\n",
              "      <th>3400</th>\n",
              "      <td>FDE11</td>\n",
              "      <td>OUT035</td>\n",
              "      <td>3080.692549</td>\n",
              "      <td>7033.5112</td>\n",
              "    </tr>\n",
              "    <tr>\n",
              "      <th>5106</th>\n",
              "      <td>FDY33</td>\n",
              "      <td>OUT019</td>\n",
              "      <td>363.722338</td>\n",
              "      <td>159.1262</td>\n",
              "    </tr>\n",
              "    <tr>\n",
              "      <th>1309</th>\n",
              "      <td>FDX16</td>\n",
              "      <td>OUT013</td>\n",
              "      <td>2413.061627</td>\n",
              "      <td>2546.6850</td>\n",
              "    </tr>\n",
              "    <tr>\n",
              "      <th>5277</th>\n",
              "      <td>FDD57</td>\n",
              "      <td>OUT035</td>\n",
              "      <td>1574.987070</td>\n",
              "      <td>1332.9316</td>\n",
              "    </tr>\n",
              "    <tr>\n",
              "      <th>5467</th>\n",
              "      <td>FDF10</td>\n",
              "      <td>OUT013</td>\n",
              "      <td>2413.061627</td>\n",
              "      <td>3972.8286</td>\n",
              "    </tr>\n",
              "  </tbody>\n",
              "</table>\n",
              "<p>1279 rows × 4 columns</p>\n",
              "</div>\n",
              "      <button class=\"colab-df-convert\" onclick=\"convertToInteractive('df-8cdb7061-e573-4a3c-b5e8-fb2a6f2be939')\"\n",
              "              title=\"Convert this dataframe to an interactive table.\"\n",
              "              style=\"display:none;\">\n",
              "        \n",
              "  <svg xmlns=\"http://www.w3.org/2000/svg\" height=\"24px\"viewBox=\"0 0 24 24\"\n",
              "       width=\"24px\">\n",
              "    <path d=\"M0 0h24v24H0V0z\" fill=\"none\"/>\n",
              "    <path d=\"M18.56 5.44l.94 2.06.94-2.06 2.06-.94-2.06-.94-.94-2.06-.94 2.06-2.06.94zm-11 1L8.5 8.5l.94-2.06 2.06-.94-2.06-.94L8.5 2.5l-.94 2.06-2.06.94zm10 10l.94 2.06.94-2.06 2.06-.94-2.06-.94-.94-2.06-.94 2.06-2.06.94z\"/><path d=\"M17.41 7.96l-1.37-1.37c-.4-.4-.92-.59-1.43-.59-.52 0-1.04.2-1.43.59L10.3 9.45l-7.72 7.72c-.78.78-.78 2.05 0 2.83L4 21.41c.39.39.9.59 1.41.59.51 0 1.02-.2 1.41-.59l7.78-7.78 2.81-2.81c.8-.78.8-2.07 0-2.86zM5.41 20L4 18.59l7.72-7.72 1.47 1.35L5.41 20z\"/>\n",
              "  </svg>\n",
              "      </button>\n",
              "      \n",
              "  <style>\n",
              "    .colab-df-container {\n",
              "      display:flex;\n",
              "      flex-wrap:wrap;\n",
              "      gap: 12px;\n",
              "    }\n",
              "\n",
              "    .colab-df-convert {\n",
              "      background-color: #E8F0FE;\n",
              "      border: none;\n",
              "      border-radius: 50%;\n",
              "      cursor: pointer;\n",
              "      display: none;\n",
              "      fill: #1967D2;\n",
              "      height: 32px;\n",
              "      padding: 0 0 0 0;\n",
              "      width: 32px;\n",
              "    }\n",
              "\n",
              "    .colab-df-convert:hover {\n",
              "      background-color: #E2EBFA;\n",
              "      box-shadow: 0px 1px 2px rgba(60, 64, 67, 0.3), 0px 1px 3px 1px rgba(60, 64, 67, 0.15);\n",
              "      fill: #174EA6;\n",
              "    }\n",
              "\n",
              "    [theme=dark] .colab-df-convert {\n",
              "      background-color: #3B4455;\n",
              "      fill: #D2E3FC;\n",
              "    }\n",
              "\n",
              "    [theme=dark] .colab-df-convert:hover {\n",
              "      background-color: #434B5C;\n",
              "      box-shadow: 0px 1px 3px 1px rgba(0, 0, 0, 0.15);\n",
              "      filter: drop-shadow(0px 1px 2px rgba(0, 0, 0, 0.3));\n",
              "      fill: #FFFFFF;\n",
              "    }\n",
              "  </style>\n",
              "\n",
              "      <script>\n",
              "        const buttonEl =\n",
              "          document.querySelector('#df-8cdb7061-e573-4a3c-b5e8-fb2a6f2be939 button.colab-df-convert');\n",
              "        buttonEl.style.display =\n",
              "          google.colab.kernel.accessAllowed ? 'block' : 'none';\n",
              "\n",
              "        async function convertToInteractive(key) {\n",
              "          const element = document.querySelector('#df-8cdb7061-e573-4a3c-b5e8-fb2a6f2be939');\n",
              "          const dataTable =\n",
              "            await google.colab.kernel.invokeFunction('convertToInteractive',\n",
              "                                                     [key], {});\n",
              "          if (!dataTable) return;\n",
              "\n",
              "          const docLinkHtml = 'Like what you see? Visit the ' +\n",
              "            '<a target=\"_blank\" href=https://colab.research.google.com/notebooks/data_table.ipynb>data table notebook</a>'\n",
              "            + ' to learn more about interactive tables.';\n",
              "          element.innerHTML = '';\n",
              "          dataTable['output_type'] = 'display_data';\n",
              "          await google.colab.output.renderOutput(dataTable, element);\n",
              "          const docLink = document.createElement('div');\n",
              "          docLink.innerHTML = docLinkHtml;\n",
              "          element.appendChild(docLink);\n",
              "        }\n",
              "      </script>\n",
              "    </div>\n",
              "  </div>\n",
              "  "
            ]
          },
          "metadata": {},
          "execution_count": 76
        }
      ],
      "source": [
        "data_comparison = pd.DataFrame(columns=['Item_Identifier','Outlet_Identifier','Predicted_Outlet', 'Original_Outlet'])\n",
        "data_comparison.Item_Identifier = data_output.Item_Identifier\n",
        "data_comparison.Outlet_Identifier = data_output.Outlet_Identifier\n",
        "data_comparison.Predicted_Outlet = data_output.Item_Outlet_Sales\n",
        "data_comparison.Original_Outlet =y_test_rfr\n",
        "\n",
        "data_comparison"
      ]
    },
    {
      "cell_type": "markdown",
      "metadata": {
        "id": "7U_QHsCTazP3"
      },
      "source": [
        "<div dir=rtl>\n",
        "כאן בנינו דאטאפריים שיראה לנו ויזואלית את היקף המכירות שהמודל חזה אל מול ההיקף המכירות מהדאטא המקורי.\n",
        "<br>\n",
        "כמו שניתן לראות המודל היה קרוב ברוב המקומות. השגיאה הריבועית המקסימלית הממוצעת היא כ- *1050 דולר (RMSE)\n",
        "\n",
        "<br><br><br><br>\n",
        " *חשוב לציין כי בכל ריצה הRMSE מעט שונה."
      ]
    },
    {
      "cell_type": "code",
      "execution_count": null,
      "metadata": {
        "id": "M7oqlO-osneD"
      },
      "outputs": [],
      "source": [
        "from pathlib import Path  \n",
        "data_output = data_output.reset_index(drop=True) \n",
        "\n",
        "filepath = Path('Best_Model_Output.csv')  \n",
        "filepath.parent.mkdir(parents=True, exist_ok=True)  \n",
        "data_output.to_csv(filepath)  "
      ]
    },
    {
      "cell_type": "markdown",
      "metadata": {
        "id": "mELXA4r8--KQ"
      },
      "source": [
        "<div dir=rtl>\n",
        "\n",
        "data_output.reset_index- פונקצייה שמסדרת מחדש את סדר האינדקסים שמשכנו מסט הנתונים המקורי.<br>\n",
        "\n",
        "הפונקציה השנייה מייצאת את הDataframe לקובץ CSV"
      ]
    }
  ],
  "metadata": {
    "colab": {
      "provenance": [],
      "include_colab_link": true
    },
    "kernelspec": {
      "display_name": "Python 3",
      "name": "python3"
    },
    "language_info": {
      "name": "python"
    }
  },
  "nbformat": 4,
  "nbformat_minor": 0
}